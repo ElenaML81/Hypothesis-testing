{
 "cells": [
  {
   "cell_type": "markdown",
   "id": "931e0f0b",
   "metadata": {},
   "source": [
    "### S07 T01: Tasca del test d'hipòtesis"
   ]
  },
  {
   "cell_type": "code",
   "execution_count": 1,
   "id": "aa7b0d6c",
   "metadata": {
    "ExecuteTime": {
     "end_time": "2022-03-28T06:51:11.996028Z",
     "start_time": "2022-03-28T06:51:09.670494Z"
    }
   },
   "outputs": [],
   "source": [
    "import scikit_posthocs as sp\n",
    "import matplotlib.pyplot as plt\n",
    "import seaborn as sns\n",
    "import numpy as np\n",
    "from scipy import stats\n",
    "from scipy.stats import ttest_1samp, wilcoxon, ttest_ind, mannwhitneyu, shapiro\n",
    "import pandas as pd\n",
    "pd.options.display.float_format = '{:,.3f}'.format\n",
    "import warnings\n",
    "warnings.filterwarnings('ignore')"
   ]
  },
  {
   "cell_type": "markdown",
   "id": "291434d6",
   "metadata": {},
   "source": [
    "For this exercise I will use the same dataset as in the previous exercises. The dataset contains information about athletes competing in the Olympic Games, both Winter and Summer Season from Athens 1896 to Rio 2016. \n",
    "\n",
    "This dataset is taken from: https://www.kaggle.com/heesoo37/120-years-of-olympic-history-athletes-and-results"
   ]
  },
  {
   "cell_type": "code",
   "execution_count": 2,
   "id": "41985cb2",
   "metadata": {
    "ExecuteTime": {
     "end_time": "2022-03-28T06:51:12.649566Z",
     "start_time": "2022-03-28T06:51:11.997155Z"
    }
   },
   "outputs": [],
   "source": [
    "# loading the dataset \n",
    "games = pd.read_csv('athlete_events.csv')"
   ]
  },
  {
   "cell_type": "code",
   "execution_count": 3,
   "id": "ec997c53",
   "metadata": {
    "ExecuteTime": {
     "end_time": "2022-03-28T06:51:12.696290Z",
     "start_time": "2022-03-28T06:51:12.650729Z"
    }
   },
   "outputs": [
    {
     "data": {
      "text/html": [
       "<div>\n",
       "<style scoped>\n",
       "    .dataframe tbody tr th:only-of-type {\n",
       "        vertical-align: middle;\n",
       "    }\n",
       "\n",
       "    .dataframe tbody tr th {\n",
       "        vertical-align: top;\n",
       "    }\n",
       "\n",
       "    .dataframe thead th {\n",
       "        text-align: right;\n",
       "    }\n",
       "</style>\n",
       "<table border=\"1\" class=\"dataframe\">\n",
       "  <thead>\n",
       "    <tr style=\"text-align: right;\">\n",
       "      <th></th>\n",
       "      <th>ID</th>\n",
       "      <th>Name</th>\n",
       "      <th>Sex</th>\n",
       "      <th>Age</th>\n",
       "      <th>Height</th>\n",
       "      <th>Weight</th>\n",
       "      <th>Team</th>\n",
       "      <th>NOC</th>\n",
       "      <th>Games</th>\n",
       "      <th>Year</th>\n",
       "      <th>Season</th>\n",
       "      <th>City</th>\n",
       "      <th>Sport</th>\n",
       "      <th>Event</th>\n",
       "      <th>Medal</th>\n",
       "    </tr>\n",
       "  </thead>\n",
       "  <tbody>\n",
       "    <tr>\n",
       "      <th>0</th>\n",
       "      <td>1</td>\n",
       "      <td>A Dijiang</td>\n",
       "      <td>M</td>\n",
       "      <td>24.000</td>\n",
       "      <td>180.000</td>\n",
       "      <td>80.000</td>\n",
       "      <td>China</td>\n",
       "      <td>CHN</td>\n",
       "      <td>1992 Summer</td>\n",
       "      <td>1992</td>\n",
       "      <td>Summer</td>\n",
       "      <td>Barcelona</td>\n",
       "      <td>Basketball</td>\n",
       "      <td>Basketball Men's Basketball</td>\n",
       "      <td>NaN</td>\n",
       "    </tr>\n",
       "    <tr>\n",
       "      <th>1</th>\n",
       "      <td>2</td>\n",
       "      <td>A Lamusi</td>\n",
       "      <td>M</td>\n",
       "      <td>23.000</td>\n",
       "      <td>170.000</td>\n",
       "      <td>60.000</td>\n",
       "      <td>China</td>\n",
       "      <td>CHN</td>\n",
       "      <td>2012 Summer</td>\n",
       "      <td>2012</td>\n",
       "      <td>Summer</td>\n",
       "      <td>London</td>\n",
       "      <td>Judo</td>\n",
       "      <td>Judo Men's Extra-Lightweight</td>\n",
       "      <td>NaN</td>\n",
       "    </tr>\n",
       "    <tr>\n",
       "      <th>2</th>\n",
       "      <td>3</td>\n",
       "      <td>Gunnar Nielsen Aaby</td>\n",
       "      <td>M</td>\n",
       "      <td>24.000</td>\n",
       "      <td>NaN</td>\n",
       "      <td>NaN</td>\n",
       "      <td>Denmark</td>\n",
       "      <td>DEN</td>\n",
       "      <td>1920 Summer</td>\n",
       "      <td>1920</td>\n",
       "      <td>Summer</td>\n",
       "      <td>Antwerpen</td>\n",
       "      <td>Football</td>\n",
       "      <td>Football Men's Football</td>\n",
       "      <td>NaN</td>\n",
       "    </tr>\n",
       "    <tr>\n",
       "      <th>3</th>\n",
       "      <td>4</td>\n",
       "      <td>Edgar Lindenau Aabye</td>\n",
       "      <td>M</td>\n",
       "      <td>34.000</td>\n",
       "      <td>NaN</td>\n",
       "      <td>NaN</td>\n",
       "      <td>Denmark/Sweden</td>\n",
       "      <td>DEN</td>\n",
       "      <td>1900 Summer</td>\n",
       "      <td>1900</td>\n",
       "      <td>Summer</td>\n",
       "      <td>Paris</td>\n",
       "      <td>Tug-Of-War</td>\n",
       "      <td>Tug-Of-War Men's Tug-Of-War</td>\n",
       "      <td>Gold</td>\n",
       "    </tr>\n",
       "    <tr>\n",
       "      <th>4</th>\n",
       "      <td>5</td>\n",
       "      <td>Christine Jacoba Aaftink</td>\n",
       "      <td>F</td>\n",
       "      <td>21.000</td>\n",
       "      <td>185.000</td>\n",
       "      <td>82.000</td>\n",
       "      <td>Netherlands</td>\n",
       "      <td>NED</td>\n",
       "      <td>1988 Winter</td>\n",
       "      <td>1988</td>\n",
       "      <td>Winter</td>\n",
       "      <td>Calgary</td>\n",
       "      <td>Speed Skating</td>\n",
       "      <td>Speed Skating Women's 500 metres</td>\n",
       "      <td>NaN</td>\n",
       "    </tr>\n",
       "  </tbody>\n",
       "</table>\n",
       "</div>"
      ],
      "text/plain": [
       "   ID                      Name Sex    Age  Height  Weight            Team  \\\n",
       "0   1                 A Dijiang   M 24.000 180.000  80.000           China   \n",
       "1   2                  A Lamusi   M 23.000 170.000  60.000           China   \n",
       "2   3       Gunnar Nielsen Aaby   M 24.000     NaN     NaN         Denmark   \n",
       "3   4      Edgar Lindenau Aabye   M 34.000     NaN     NaN  Denmark/Sweden   \n",
       "4   5  Christine Jacoba Aaftink   F 21.000 185.000  82.000     Netherlands   \n",
       "\n",
       "   NOC        Games  Year  Season       City          Sport  \\\n",
       "0  CHN  1992 Summer  1992  Summer  Barcelona     Basketball   \n",
       "1  CHN  2012 Summer  2012  Summer     London           Judo   \n",
       "2  DEN  1920 Summer  1920  Summer  Antwerpen       Football   \n",
       "3  DEN  1900 Summer  1900  Summer      Paris     Tug-Of-War   \n",
       "4  NED  1988 Winter  1988  Winter    Calgary  Speed Skating   \n",
       "\n",
       "                              Event Medal  \n",
       "0       Basketball Men's Basketball   NaN  \n",
       "1      Judo Men's Extra-Lightweight   NaN  \n",
       "2           Football Men's Football   NaN  \n",
       "3       Tug-Of-War Men's Tug-Of-War  Gold  \n",
       "4  Speed Skating Women's 500 metres   NaN  "
      ]
     },
     "execution_count": 3,
     "metadata": {},
     "output_type": "execute_result"
    }
   ],
   "source": [
    "games.head(5)"
   ]
  },
  {
   "cell_type": "code",
   "execution_count": 4,
   "id": "9fc3c84f",
   "metadata": {
    "ExecuteTime": {
     "end_time": "2022-03-28T06:51:13.074193Z",
     "start_time": "2022-03-28T06:51:12.697868Z"
    }
   },
   "outputs": [
    {
     "data": {
      "text/plain": [
       "ID             0\n",
       "Name           0\n",
       "Sex            0\n",
       "Age         9474\n",
       "Height     60171\n",
       "Weight     62875\n",
       "Team           0\n",
       "NOC            0\n",
       "Games          0\n",
       "Year           0\n",
       "Season         0\n",
       "City           0\n",
       "Sport          0\n",
       "Event          0\n",
       "Medal     231333\n",
       "dtype: int64"
      ]
     },
     "execution_count": 4,
     "metadata": {},
     "output_type": "execute_result"
    }
   ],
   "source": [
    "# check missing values\n",
    "games.isnull().sum()"
   ]
  },
  {
   "cell_type": "markdown",
   "id": "e45f8c99",
   "metadata": {},
   "source": [
    "In this exercise I'm interested in comparing the 'Age', 'Weight' and 'Weight' among different groups of athletes, so this time we will delete all rows that have missing values in these rows. "
   ]
  },
  {
   "cell_type": "code",
   "execution_count": 5,
   "id": "8cdbe4e9",
   "metadata": {
    "ExecuteTime": {
     "end_time": "2022-03-28T06:51:14.641125Z",
     "start_time": "2022-03-28T06:51:13.074931Z"
    }
   },
   "outputs": [
    {
     "data": {
      "text/plain": [
       "<AxesSubplot:>"
      ]
     },
     "execution_count": 5,
     "metadata": {},
     "output_type": "execute_result"
    },
    {
     "data": {
      "image/png": "[encoded data removed]",
      "text/plain": [
       "<Figure size 720x432 with 2 Axes>"
      ]
     },
     "metadata": {
      "needs_background": "light"
     },
     "output_type": "display_data"
    }
   ],
   "source": [
    "# show missing values and how they are distributed in the dataset \n",
    "import missingno as msno\n",
    "msno.matrix(games, color=(0.8, 0.3, 0.5), figsize=(10,6),fontsize=(10))"
   ]
  },
  {
   "cell_type": "code",
   "execution_count": 6,
   "id": "1853a649",
   "metadata": {
    "ExecuteTime": {
     "end_time": "2022-03-28T06:51:14.704487Z",
     "start_time": "2022-03-28T06:51:14.644053Z"
    }
   },
   "outputs": [],
   "source": [
    "#deleting null values from columns Age, Height, Weight\n",
    "games = games.dropna(subset = ['Age', 'Height', 'Weight'])"
   ]
  },
  {
   "cell_type": "code",
   "execution_count": 7,
   "id": "f4020e54",
   "metadata": {
    "ExecuteTime": {
     "end_time": "2022-03-28T06:51:14.720517Z",
     "start_time": "2022-03-28T06:51:14.705587Z"
    }
   },
   "outputs": [
    {
     "data": {
      "text/plain": [
       "(206165, 15)"
      ]
     },
     "execution_count": 7,
     "metadata": {},
     "output_type": "execute_result"
    }
   ],
   "source": [
    "games.shape"
   ]
  },
  {
   "cell_type": "markdown",
   "id": "a8aa1198",
   "metadata": {},
   "source": [
    "This dataset contains some duplicate athletes because some of them compete in different competitions and even different games. For this exercise we will delete these duplicate athletes because we want to focus on athletes attributes and we want the data to be truly independent. "
   ]
  },
  {
   "cell_type": "code",
   "execution_count": 8,
   "id": "61f36dc7",
   "metadata": {
    "ExecuteTime": {
     "end_time": "2022-03-28T06:51:14.924661Z",
     "start_time": "2022-03-28T06:51:14.722029Z"
    }
   },
   "outputs": [
    {
     "name": "stdout",
     "output_type": "stream",
     "text": [
      "<class 'pandas.core.frame.DataFrame'>\n",
      "Int64Index: 99088 entries, 0 to 271114\n",
      "Data columns (total 15 columns):\n",
      " #   Column  Non-Null Count  Dtype  \n",
      "---  ------  --------------  -----  \n",
      " 0   ID      99088 non-null  int64  \n",
      " 1   Name    99088 non-null  object \n",
      " 2   Sex     99088 non-null  object \n",
      " 3   Age     99088 non-null  float64\n",
      " 4   Height  99088 non-null  float64\n",
      " 5   Weight  99088 non-null  float64\n",
      " 6   Team    99088 non-null  object \n",
      " 7   NOC     99088 non-null  object \n",
      " 8   Games   99088 non-null  object \n",
      " 9   Year    99088 non-null  int64  \n",
      " 10  Season  99088 non-null  object \n",
      " 11  City    99088 non-null  object \n",
      " 12  Sport   99088 non-null  object \n",
      " 13  Event   99088 non-null  object \n",
      " 14  Medal   13507 non-null  object \n",
      "dtypes: float64(3), int64(2), object(10)\n",
      "memory usage: 12.1+ MB\n"
     ]
    }
   ],
   "source": [
    "# delete duplicates by ID column, ID is unique for each athlete\n",
    "df = games.drop_duplicates(subset= ['ID'], keep= 'first')\n",
    "df.info()"
   ]
  },
  {
   "cell_type": "code",
   "execution_count": 9,
   "id": "69753efa",
   "metadata": {
    "ExecuteTime": {
     "end_time": "2022-03-28T06:51:14.956139Z",
     "start_time": "2022-03-28T06:51:14.926564Z"
    }
   },
   "outputs": [
    {
     "data": {
      "text/html": [
       "<div>\n",
       "<style scoped>\n",
       "    .dataframe tbody tr th:only-of-type {\n",
       "        vertical-align: middle;\n",
       "    }\n",
       "\n",
       "    .dataframe tbody tr th {\n",
       "        vertical-align: top;\n",
       "    }\n",
       "\n",
       "    .dataframe thead th {\n",
       "        text-align: right;\n",
       "    }\n",
       "</style>\n",
       "<table border=\"1\" class=\"dataframe\">\n",
       "  <thead>\n",
       "    <tr style=\"text-align: right;\">\n",
       "      <th></th>\n",
       "      <th>Age</th>\n",
       "      <th>Height</th>\n",
       "      <th>Weight</th>\n",
       "    </tr>\n",
       "  </thead>\n",
       "  <tbody>\n",
       "    <tr>\n",
       "      <th>count</th>\n",
       "      <td>99,088.000</td>\n",
       "      <td>99,088.000</td>\n",
       "      <td>99,088.000</td>\n",
       "    </tr>\n",
       "    <tr>\n",
       "      <th>mean</th>\n",
       "      <td>23.928</td>\n",
       "      <td>176.367</td>\n",
       "      <td>71.960</td>\n",
       "    </tr>\n",
       "    <tr>\n",
       "      <th>std</th>\n",
       "      <td>4.718</td>\n",
       "      <td>10.386</td>\n",
       "      <td>14.553</td>\n",
       "    </tr>\n",
       "    <tr>\n",
       "      <th>min</th>\n",
       "      <td>11.000</td>\n",
       "      <td>127.000</td>\n",
       "      <td>25.000</td>\n",
       "    </tr>\n",
       "    <tr>\n",
       "      <th>25%</th>\n",
       "      <td>21.000</td>\n",
       "      <td>170.000</td>\n",
       "      <td>62.000</td>\n",
       "    </tr>\n",
       "    <tr>\n",
       "      <th>50%</th>\n",
       "      <td>23.000</td>\n",
       "      <td>176.000</td>\n",
       "      <td>71.000</td>\n",
       "    </tr>\n",
       "    <tr>\n",
       "      <th>75%</th>\n",
       "      <td>26.000</td>\n",
       "      <td>183.000</td>\n",
       "      <td>80.000</td>\n",
       "    </tr>\n",
       "    <tr>\n",
       "      <th>max</th>\n",
       "      <td>68.000</td>\n",
       "      <td>226.000</td>\n",
       "      <td>214.000</td>\n",
       "    </tr>\n",
       "  </tbody>\n",
       "</table>\n",
       "</div>"
      ],
      "text/plain": [
       "             Age     Height     Weight\n",
       "count 99,088.000 99,088.000 99,088.000\n",
       "mean      23.928    176.367     71.960\n",
       "std        4.718     10.386     14.553\n",
       "min       11.000    127.000     25.000\n",
       "25%       21.000    170.000     62.000\n",
       "50%       23.000    176.000     71.000\n",
       "75%       26.000    183.000     80.000\n",
       "max       68.000    226.000    214.000"
      ]
     },
     "execution_count": 9,
     "metadata": {},
     "output_type": "execute_result"
    }
   ],
   "source": [
    "df[['Age', 'Height', 'Weight']].describe()"
   ]
  },
  {
   "cell_type": "markdown",
   "id": "886f0d71",
   "metadata": {},
   "source": [
    "### - Exercici 1\n",
    "\n",
    "Agafa un conjunt de dades de tema esportiu que t'agradi i selecciona un atribut del conjunt de dades. Calcula el p-valor i digues si rebutja la hipòtesi nul·la agafant un alfa de 5%. "
   ]
  },
  {
   "cell_type": "markdown",
   "id": "8bbd4f53",
   "metadata": {},
   "source": [
    "In this exercise, we want to **test if the average age of Gymnastics Athletes is less than the average age of the rest of the Olympic Athletes.**"
   ]
  },
  {
   "cell_type": "code",
   "execution_count": 10,
   "id": "c3a09d7d",
   "metadata": {
    "ExecuteTime": {
     "end_time": "2022-03-28T06:51:14.987221Z",
     "start_time": "2022-03-28T06:51:14.958071Z"
    }
   },
   "outputs": [
    {
     "name": "stdout",
     "output_type": "stream",
     "text": [
      "Average age for Olympic athletes(excluding Gymnastics) is:  24.013\n"
     ]
    }
   ],
   "source": [
    "#To make the test really independent, we´calcualte the mean of age of athletes excluding Gymnastics athletes:\n",
    "data_no_gymnastics = df[df['Sport'] != 'Gymnastics']\n",
    "print('Average age for Olympic athletes(excluding Gymnastics) is: ',round(data_no_gymnastics.Age.mean(), 3))"
   ]
  },
  {
   "cell_type": "code",
   "execution_count": 11,
   "id": "5e1700bd",
   "metadata": {
    "ExecuteTime": {
     "end_time": "2022-03-28T06:51:15.018350Z",
     "start_time": "2022-03-28T06:51:14.988220Z"
    }
   },
   "outputs": [
    {
     "data": {
      "text/html": [
       "<div>\n",
       "<style scoped>\n",
       "    .dataframe tbody tr th:only-of-type {\n",
       "        vertical-align: middle;\n",
       "    }\n",
       "\n",
       "    .dataframe tbody tr th {\n",
       "        vertical-align: top;\n",
       "    }\n",
       "\n",
       "    .dataframe thead th {\n",
       "        text-align: right;\n",
       "    }\n",
       "</style>\n",
       "<table border=\"1\" class=\"dataframe\">\n",
       "  <thead>\n",
       "    <tr style=\"text-align: right;\">\n",
       "      <th></th>\n",
       "      <th>ID</th>\n",
       "      <th>Name</th>\n",
       "      <th>Sex</th>\n",
       "      <th>Age</th>\n",
       "      <th>Height</th>\n",
       "      <th>Weight</th>\n",
       "      <th>Team</th>\n",
       "      <th>NOC</th>\n",
       "      <th>Games</th>\n",
       "      <th>Year</th>\n",
       "      <th>Season</th>\n",
       "      <th>City</th>\n",
       "      <th>Sport</th>\n",
       "      <th>Event</th>\n",
       "      <th>Medal</th>\n",
       "    </tr>\n",
       "  </thead>\n",
       "  <tbody>\n",
       "    <tr>\n",
       "      <th>41</th>\n",
       "      <td>17</td>\n",
       "      <td>Paavo Johannes Aaltonen</td>\n",
       "      <td>M</td>\n",
       "      <td>28.000</td>\n",
       "      <td>175.000</td>\n",
       "      <td>64.000</td>\n",
       "      <td>Finland</td>\n",
       "      <td>FIN</td>\n",
       "      <td>1948 Summer</td>\n",
       "      <td>1948</td>\n",
       "      <td>Summer</td>\n",
       "      <td>London</td>\n",
       "      <td>Gymnastics</td>\n",
       "      <td>Gymnastics Men's Individual All-Around</td>\n",
       "      <td>Bronze</td>\n",
       "    </tr>\n",
       "    <tr>\n",
       "      <th>139</th>\n",
       "      <td>51</td>\n",
       "      <td>Nstor Abad Sanjun</td>\n",
       "      <td>M</td>\n",
       "      <td>23.000</td>\n",
       "      <td>167.000</td>\n",
       "      <td>64.000</td>\n",
       "      <td>Spain</td>\n",
       "      <td>ESP</td>\n",
       "      <td>2016 Summer</td>\n",
       "      <td>2016</td>\n",
       "      <td>Summer</td>\n",
       "      <td>Rio de Janeiro</td>\n",
       "      <td>Gymnastics</td>\n",
       "      <td>Gymnastics Men's Individual All-Around</td>\n",
       "      <td>NaN</td>\n",
       "    </tr>\n",
       "    <tr>\n",
       "      <th>437</th>\n",
       "      <td>244</td>\n",
       "      <td>Raouf Abdelraouf</td>\n",
       "      <td>M</td>\n",
       "      <td>22.000</td>\n",
       "      <td>167.000</td>\n",
       "      <td>63.000</td>\n",
       "      <td>Egypt</td>\n",
       "      <td>EGY</td>\n",
       "      <td>2000 Summer</td>\n",
       "      <td>2000</td>\n",
       "      <td>Summer</td>\n",
       "      <td>Sydney</td>\n",
       "      <td>Gymnastics</td>\n",
       "      <td>Gymnastics Men's Individual All-Around</td>\n",
       "      <td>NaN</td>\n",
       "    </tr>\n",
       "    <tr>\n",
       "      <th>676</th>\n",
       "      <td>394</td>\n",
       "      <td>Irene Abel</td>\n",
       "      <td>F</td>\n",
       "      <td>19.000</td>\n",
       "      <td>160.000</td>\n",
       "      <td>48.000</td>\n",
       "      <td>East Germany</td>\n",
       "      <td>GDR</td>\n",
       "      <td>1972 Summer</td>\n",
       "      <td>1972</td>\n",
       "      <td>Summer</td>\n",
       "      <td>Munich</td>\n",
       "      <td>Gymnastics</td>\n",
       "      <td>Gymnastics Women's Individual All-Around</td>\n",
       "      <td>NaN</td>\n",
       "    </tr>\n",
       "    <tr>\n",
       "      <th>687</th>\n",
       "      <td>396</td>\n",
       "      <td>Katja Abel</td>\n",
       "      <td>F</td>\n",
       "      <td>25.000</td>\n",
       "      <td>165.000</td>\n",
       "      <td>55.000</td>\n",
       "      <td>Germany</td>\n",
       "      <td>GER</td>\n",
       "      <td>2008 Summer</td>\n",
       "      <td>2008</td>\n",
       "      <td>Summer</td>\n",
       "      <td>Beijing</td>\n",
       "      <td>Gymnastics</td>\n",
       "      <td>Gymnastics Women's Individual All-Around</td>\n",
       "      <td>NaN</td>\n",
       "    </tr>\n",
       "  </tbody>\n",
       "</table>\n",
       "</div>"
      ],
      "text/plain": [
       "      ID                     Name Sex    Age  Height  Weight          Team  \\\n",
       "41    17  Paavo Johannes Aaltonen   M 28.000 175.000  64.000       Finland   \n",
       "139   51        Nstor Abad Sanjun   M 23.000 167.000  64.000         Spain   \n",
       "437  244         Raouf Abdelraouf   M 22.000 167.000  63.000         Egypt   \n",
       "676  394               Irene Abel   F 19.000 160.000  48.000  East Germany   \n",
       "687  396               Katja Abel   F 25.000 165.000  55.000       Germany   \n",
       "\n",
       "     NOC        Games  Year  Season            City       Sport  \\\n",
       "41   FIN  1948 Summer  1948  Summer          London  Gymnastics   \n",
       "139  ESP  2016 Summer  2016  Summer  Rio de Janeiro  Gymnastics   \n",
       "437  EGY  2000 Summer  2000  Summer          Sydney  Gymnastics   \n",
       "676  GDR  1972 Summer  1972  Summer          Munich  Gymnastics   \n",
       "687  GER  2008 Summer  2008  Summer         Beijing  Gymnastics   \n",
       "\n",
       "                                        Event   Medal  \n",
       "41     Gymnastics Men's Individual All-Around  Bronze  \n",
       "139    Gymnastics Men's Individual All-Around     NaN  \n",
       "437    Gymnastics Men's Individual All-Around     NaN  \n",
       "676  Gymnastics Women's Individual All-Around     NaN  \n",
       "687  Gymnastics Women's Individual All-Around     NaN  "
      ]
     },
     "execution_count": 11,
     "metadata": {},
     "output_type": "execute_result"
    }
   ],
   "source": [
    "# create a new dataframe for Gymnastics athletes: \n",
    "data_gymnastics = df[df['Sport'] == 'Gymnastics']\n",
    "data_gymnastics.head()"
   ]
  },
  {
   "cell_type": "markdown",
   "id": "300fcfb1",
   "metadata": {},
   "source": [
    "First let´s check the distribution of the ages for Gymnastics Athletes, we can do a test to check if it follows a normal distribution. We will use the **Shapiro-Wilk Normality Test**. Our Hypothesis is: "
   ]
  },
  {
   "cell_type": "markdown",
   "id": "49b05402",
   "metadata": {},
   "source": [
    "+ H₀: The data is normally distributed.\n",
    "+ H₁: The data is not normally distributed."
   ]
  },
  {
   "cell_type": "code",
   "execution_count": 12,
   "id": "2255d70c",
   "metadata": {
    "ExecuteTime": {
     "end_time": "2022-03-28T06:51:15.033535Z",
     "start_time": "2022-03-28T06:51:15.019295Z"
    }
   },
   "outputs": [],
   "source": [
    "# create a function that checks if the distribution is normal: \n",
    "def check_normal_distribution(data): \n",
    "    stat, p_value_norm = shapiro(data)\n",
    "    \n",
    "    print('stat=%.3f, p=%.3f' % (stat, p_value_norm))\n",
    "    \n",
    "    if p_value_norm < 0.05 : \n",
    "        print(\"Reject null hypothesis at 95% Significance Level  >> The data is not normally distributed\")\n",
    "    else: \n",
    "        print(\"Fail to reject null hypothesis at 95€ Significance Level  >> The data is normally distributed\")"
   ]
  },
  {
   "cell_type": "code",
   "execution_count": 13,
   "id": "68474175",
   "metadata": {
    "ExecuteTime": {
     "end_time": "2022-03-28T06:51:15.049561Z",
     "start_time": "2022-03-28T06:51:15.034473Z"
    }
   },
   "outputs": [
    {
     "name": "stdout",
     "output_type": "stream",
     "text": [
      "stat=0.963, p=0.000\n",
      "Reject null hypothesis at 95% Significance Level  >> The data is not normally distributed\n"
     ]
    }
   ],
   "source": [
    "check_normal_distribution(data_gymnastics['Age'])"
   ]
  },
  {
   "cell_type": "markdown",
   "id": "45b20611",
   "metadata": {},
   "source": [
    "The result of the test is that with a confidence level of 95% the data is not normally distributed, so I will use the **Wilcoxon test**, that allows to make Hypothesis testing with one non parametric sample."
   ]
  },
  {
   "cell_type": "markdown",
   "id": "447e163e",
   "metadata": {},
   "source": [
    "Fist, we´ll declare our Hypothesis, I want to test wether **average age of Gymnastic athletes is less than the rest of Olympic athletes:**"
   ]
  },
  {
   "cell_type": "markdown",
   "id": "3ca0e851",
   "metadata": {},
   "source": [
    "+ H₀: Average age for Gymnastic athletes ≥ 24.01 (Olympic athletes average age)\n",
    "+ H₁: Average age for Gymnastic athletes < 24.01 (Olympic athletes average age)"
   ]
  },
  {
   "cell_type": "code",
   "execution_count": 14,
   "id": "bae0e90a",
   "metadata": {
    "ExecuteTime": {
     "end_time": "2022-03-28T06:51:15.065071Z",
     "start_time": "2022-03-28T06:51:15.050562Z"
    }
   },
   "outputs": [
    {
     "name": "stdout",
     "output_type": "stream",
     "text": [
      "One-sample Wilcoxon-test p-value=0.000 \n",
      "Reject Null Hypothesis at 95% confidence level >> Accept Alternative Hypothesis\n"
     ]
    }
   ],
   "source": [
    "# one sample wilcoxon-test\n",
    "# since this is a one sided test we use the parameter 'less', alternative Hypothesis is age is less than athletes avg \n",
    "stat, pvalue = wilcoxon(data_gymnastics['Age'] - data_no_gymnastics.Age.mean(), \n",
    "                        alternative = 'less')\n",
    "\n",
    "print(\"One-sample Wilcoxon-test p-value=%.3f \" % pvalue)\n",
    "\n",
    "alpha = 0.05\n",
    "\n",
    "if pvalue > alpha: \n",
    "    print('Fail to reject Null Hypothesis at 95% confidence level ')\n",
    "else: \n",
    "    print('Reject Null Hypothesis at 95% confidence level >> Accept Alternative Hypothesis')"
   ]
  },
  {
   "cell_type": "markdown",
   "id": "383169fd",
   "metadata": {},
   "source": [
    "So we can conclude that **age of Gymnastics Athletes is less than 24.01** (average age of athletes in the Olympic Games).\n",
    "\n",
    "We can plot this distribution to see if it confirms the result of our test:"
   ]
  },
  {
   "cell_type": "code",
   "execution_count": 15,
   "id": "f74b0af6",
   "metadata": {
    "ExecuteTime": {
     "end_time": "2022-03-28T06:51:15.284336Z",
     "start_time": "2022-03-28T06:51:15.066067Z"
    }
   },
   "outputs": [
    {
     "data": {
      "image/png": "[encoded data removed]",
      "text/plain": [
       "<Figure size 720x504 with 1 Axes>"
      ]
     },
     "metadata": {
      "needs_background": "light"
     },
     "output_type": "display_data"
    }
   ],
   "source": [
    "plt.figure(figsize= (10,7))\n",
    "\n",
    "sns.kdeplot(data_gymnastics['Age'], label= 'Age', color= '#4cf163', fill = True)\n",
    "plt.axvline(x= data_no_gymnastics.Age.mean(), linewidth = 1, color= 'black', ls= 'dotted')\n",
    "plt.axvline(x= data_gymnastics['Age'].mean(), color = '#08b01f', ls = 'dotted')\n",
    "plt.text(x= 25.5, y=0.005, s= \"Average age(all athletes excluding Gymnastics)\")\n",
    "plt.text(x= 12, y = 0.065, s= 'Average Gymnastics Age', color= '#08b01f')\n",
    "plt.title('Age distribution among Gymnastics Olympic Athletes', size = 15)\n",
    "plt.show()"
   ]
  },
  {
   "cell_type": "markdown",
   "id": "dc41f4f7",
   "metadata": {},
   "source": [
    "Seeing this plot we can confirm the result of our test that accepts Alternative Hypothesis: age of athletes in Gymnastics is less than athletes in the rest of the Sports. "
   ]
  },
  {
   "cell_type": "markdown",
   "id": "546dc894",
   "metadata": {},
   "source": [
    "### - Exercici 2\n",
    "\n",
    "Continua amb el conjunt de dades de tema esportiu que t'agradi i selecciona dos altres atributs del conjunt de dades. Calcula els p-valors i digues si rebutgen la hipòtesi nul·la agafant un alfa de 5%."
   ]
  },
  {
   "cell_type": "markdown",
   "id": "1b542730",
   "metadata": {},
   "source": [
    "Now we want to test if the **height of the athletes has changed in the last 50 years** so we will compare the heights of the athletes in the 50's decade with the heights of the 2000's decade to see if there's a significant difference."
   ]
  },
  {
   "cell_type": "code",
   "execution_count": 16,
   "id": "c20113ce",
   "metadata": {
    "ExecuteTime": {
     "end_time": "2022-03-28T06:51:15.299928Z",
     "start_time": "2022-03-28T06:51:15.286255Z"
    }
   },
   "outputs": [
    {
     "data": {
      "text/plain": [
       "(2171, 15)"
      ]
     },
     "execution_count": 16,
     "metadata": {},
     "output_type": "execute_result"
    }
   ],
   "source": [
    "# create a dataframe with ahtletes of 50's decade: \n",
    "data_50 = df[(df['Year'] >= 1950 ) & (df['Year'] < 1960 )]\n",
    "data_50.shape"
   ]
  },
  {
   "cell_type": "code",
   "execution_count": 17,
   "id": "fb489334",
   "metadata": {
    "ExecuteTime": {
     "end_time": "2022-03-28T06:51:15.315258Z",
     "start_time": "2022-03-28T06:51:15.302417Z"
    }
   },
   "outputs": [
    {
     "data": {
      "text/plain": [
       "(23163, 15)"
      ]
     },
     "execution_count": 17,
     "metadata": {},
     "output_type": "execute_result"
    }
   ],
   "source": [
    "# dataframe for athletes in the 2000's decade: \n",
    "data_2000 = df[(df['Year'] >= 2000 ) & (df['Year'] < 2010 )]\n",
    "data_2000.shape"
   ]
  },
  {
   "cell_type": "markdown",
   "id": "8a6b4a4d",
   "metadata": {},
   "source": [
    "Since the dataframes have different sizes, we´ll take a sample of 600 athletes from each dataframe. \n",
    "\n",
    "We´ll do an **stratified sample** by column 'Sex', since there is difference in height between Male and Female athletes we want the samples to be proportional so this doesn' t cause a distorsion in the results. We´ll take **2 samples of 600 athletes with 300 male and 300 female each.**"
   ]
  },
  {
   "cell_type": "code",
   "execution_count": 18,
   "id": "5288d677",
   "metadata": {
    "ExecuteTime": {
     "end_time": "2022-03-28T06:51:15.346280Z",
     "start_time": "2022-03-28T06:51:15.315682Z"
    }
   },
   "outputs": [],
   "source": [
    "# doing a stratified sample \n",
    "data_50_sampled = data_50.groupby('Sex', group_keys= False).apply(lambda x: x.sample(300, random_state = 42))\n",
    "data_2000_sampled = data_2000.groupby('Sex', group_keys= False).apply(lambda x: x.sample(300, random_state = 42))"
   ]
  },
  {
   "cell_type": "code",
   "execution_count": 19,
   "id": "c44f59eb",
   "metadata": {
    "ExecuteTime": {
     "end_time": "2022-03-28T06:51:15.362080Z",
     "start_time": "2022-03-28T06:51:15.347721Z"
    }
   },
   "outputs": [
    {
     "data": {
      "text/plain": [
       "F    300\n",
       "M    300\n",
       "Name: Sex, dtype: int64"
      ]
     },
     "execution_count": 19,
     "metadata": {},
     "output_type": "execute_result"
    }
   ],
   "source": [
    "data_50_sampled.Sex.value_counts()"
   ]
  },
  {
   "cell_type": "code",
   "execution_count": 20,
   "id": "e254e1dd",
   "metadata": {
    "ExecuteTime": {
     "end_time": "2022-03-28T06:51:15.377738Z",
     "start_time": "2022-03-28T06:51:15.363356Z"
    }
   },
   "outputs": [
    {
     "data": {
      "text/plain": [
       "F    300\n",
       "M    300\n",
       "Name: Sex, dtype: int64"
      ]
     },
     "execution_count": 20,
     "metadata": {},
     "output_type": "execute_result"
    }
   ],
   "source": [
    "data_2000_sampled.Sex.value_counts()"
   ]
  },
  {
   "cell_type": "markdown",
   "id": "fb386e66",
   "metadata": {},
   "source": [
    "Nos let´s test if these samples follow a normal distribution: "
   ]
  },
  {
   "cell_type": "markdown",
   "id": "914120ff",
   "metadata": {
    "ExecuteTime": {
     "end_time": "2022-03-25T17:50:56.830779Z",
     "start_time": "2022-03-25T17:50:56.817650Z"
    }
   },
   "source": [
    "+ H₀: The data is normally distributed.\n",
    "+ H₁: The data is not normally distributed."
   ]
  },
  {
   "cell_type": "code",
   "execution_count": 21,
   "id": "fe39d6a9",
   "metadata": {
    "ExecuteTime": {
     "end_time": "2022-03-28T06:51:15.393107Z",
     "start_time": "2022-03-28T06:51:15.378667Z"
    }
   },
   "outputs": [
    {
     "name": "stdout",
     "output_type": "stream",
     "text": [
      "stat=0.989, p=0.000\n",
      "Reject null hypothesis at 95% Significance Level  >> The data is not normally distributed\n",
      "stat=0.996, p=0.097\n",
      "Fail to reject null hypothesis at 95€ Significance Level  >> The data is normally distributed\n"
     ]
    }
   ],
   "source": [
    "# again we'll use the Shapiro-Wilk Normality Test\n",
    "check_normal_distribution(data_50_sampled['Height'])\n",
    "check_normal_distribution(data_2000_sampled['Height'])"
   ]
  },
  {
   "cell_type": "markdown",
   "id": "2e1d9f95",
   "metadata": {},
   "source": [
    "The result is that one of the samples follows a normal distribution but not the other, so this time we´ll use the non parametric **Mann-Whitney U Test.**"
   ]
  },
  {
   "cell_type": "markdown",
   "id": "cd848248",
   "metadata": {
    "ExecuteTime": {
     "end_time": "2022-03-25T17:55:24.211055Z",
     "start_time": "2022-03-25T17:55:24.192928Z"
    }
   },
   "source": [
    "Let´s state our Hypothesis: \n",
    "\n",
    "$H_{0}$: $\\mu_{1}= \\mu_{2}$  **or** $\\mu_{1}- \\mu_{2} = 0 $  **or** The mean of the samples are same.      \n",
    "$H_{1}$: $\\mu_{1} \\neq \\mu_{2}$  **or** $\\mu_{1}- \\mu_{2} \\neq 0 $  **or** The mean of the samples are different."
   ]
  },
  {
   "cell_type": "code",
   "execution_count": 22,
   "id": "911c324c",
   "metadata": {
    "ExecuteTime": {
     "end_time": "2022-03-28T06:51:15.408202Z",
     "start_time": "2022-03-28T06:51:15.396184Z"
    }
   },
   "outputs": [
    {
     "name": "stdout",
     "output_type": "stream",
     "text": [
      "p-value:0.000\n",
      "Reject Null Hypothesis at 95% confidence level >> Accept Alternative Hypothesis\n"
     ]
    }
   ],
   "source": [
    "# this time we'll use a two sided test\n",
    "stat, pvalue = stats.mannwhitneyu(data_50_sampled['Height'],data_2000_sampled['Height'], alternative = 'two-sided')\n",
    "print(\"p-value:%.3f\" % pvalue)\n",
    "\n",
    "alpha = 0.05\n",
    "\n",
    "if pvalue > alpha: \n",
    "    print('Fail to reject Null Hypothesis at 95% confidence level ')\n",
    "else: \n",
    "    print('Reject Null Hypothesis at 95% confidence level >> Accept Alternative Hypothesis')"
   ]
  },
  {
   "cell_type": "markdown",
   "id": "c0dc796b",
   "metadata": {},
   "source": [
    "With a significance level of 95% we can **reject the null Hypothesis that the heights of the athletes has stayed the same in the last 50 years.**"
   ]
  },
  {
   "cell_type": "code",
   "execution_count": 23,
   "id": "939735dc",
   "metadata": {
    "ExecuteTime": {
     "end_time": "2022-03-28T06:51:15.596214Z",
     "start_time": "2022-03-28T06:51:15.410369Z"
    }
   },
   "outputs": [
    {
     "data": {
      "image/png": "[encoded data removed]",
      "text/plain": [
       "<Figure size 720x504 with 1 Axes>"
      ]
     },
     "metadata": {
      "needs_background": "light"
     },
     "output_type": "display_data"
    }
   ],
   "source": [
    "# let´s plot the distribution of heights to see this: \n",
    "\n",
    "plt.figure(figsize= (10,7))\n",
    "\n",
    "sns.kdeplot(data_50_sampled['Height'], label= 'Height Distribution during the 50s decade', \n",
    "                                     color= 'magenta', fill = True, alpha = 0.30)\n",
    "sns.kdeplot(data_2000_sampled['Height'],  label= 'Height Distribution during the 2000s decade', \n",
    "            fill = True, alpha= 0.30)\n",
    "plt.title('Height distribution among Olympic Athletes')\n",
    "plt.legend()\n",
    "plt.show()"
   ]
  },
  {
   "cell_type": "markdown",
   "id": "06e457cc",
   "metadata": {},
   "source": [
    "We can confirm the results of our test, data has different distribution and means are different: \n",
    "\n",
    "+ 2000's athletes distribution has a smoother curve, the data is more dispersed. \n",
    "+ For 50's athletes, the data is more concentrated around the mean. \n"
   ]
  },
  {
   "cell_type": "markdown",
   "id": "5c293e81",
   "metadata": {},
   "source": [
    "Although we've already seen that the 50's data is not normally distributed, it´s usual to use the t Student test if the samples are bigger than 30, so **we will repeat the test using T Student test** to check if the results stay the same: "
   ]
  },
  {
   "cell_type": "code",
   "execution_count": 24,
   "id": "12fc1173",
   "metadata": {
    "ExecuteTime": {
     "end_time": "2022-03-28T06:51:15.626911Z",
     "start_time": "2022-03-28T06:51:15.597307Z"
    }
   },
   "outputs": [
    {
     "name": "stdout",
     "output_type": "stream",
     "text": [
      "stat=-5.992, p=0.000\n",
      "Reject Null Hypothesis at 95% confidence level >> Accept Alternative Hypothesis\n"
     ]
    }
   ],
   "source": [
    "stat, pvalue = ttest_ind(data_50_sampled['Height'],data_2000_sampled['Height'])\n",
    "\n",
    "print('stat=%.3f, p=%.3f' % (stat, pvalue))\n",
    "\n",
    "alpha = 0.05\n",
    "\n",
    "if pvalue > alpha: \n",
    "    print('Fail to reject Null Hypothesis at 95% confidence level ')\n",
    "else: \n",
    "    print('Reject Null Hypothesis at 95% confidence level >> Accept Alternative Hypothesis')"
   ]
  },
  {
   "cell_type": "markdown",
   "id": "4f30d066",
   "metadata": {},
   "source": [
    "The **result with the t Student test is the same as the Mann-Withney U test**: Reject the null hypotesis that athletes heights has stayed the same. "
   ]
  },
  {
   "cell_type": "markdown",
   "id": "ea7a254d",
   "metadata": {},
   "source": [
    "### - Exercici 3\n",
    "\n",
    "Continua amb el conjunt de dades de tema esportiu que t'agradi i selecciona tres atributs del conjunt de dades. Calcula el p-valor i digues si rebutja la hipòtesi nul·la agafant un alfa de 5%.\n"
   ]
  },
  {
   "cell_type": "markdown",
   "id": "3e869e2d",
   "metadata": {},
   "source": [
    "This time we want to compare the weights of female athletes in different Sports: we will **test if the weight of female athletes that compete in 'Swimming', 'Synchronized Swimming' and 'Water Polo' is the same.**"
   ]
  },
  {
   "cell_type": "code",
   "execution_count": 25,
   "id": "7feddfec",
   "metadata": {
    "ExecuteTime": {
     "end_time": "2022-03-28T06:51:15.673256Z",
     "start_time": "2022-03-28T06:51:15.627879Z"
    }
   },
   "outputs": [],
   "source": [
    "# creating a new dataframe for each Sport\n",
    "data_swimming = df[(df['Sport'] == 'Swimming') & (df['Sex'] == 'F')]\n",
    "data_synco_swimming = df[(df['Sport'] == 'Synchronized Swimming') & (df['Sex'] == 'F')]\n",
    "data_water_polo = df[(df['Sport'] == 'Water Polo') & (df['Sex'] == 'F')]"
   ]
  },
  {
   "cell_type": "markdown",
   "id": "9e6b21fb",
   "metadata": {},
   "source": [
    "To do the test, we´ll take a sample of 250 athletes for each sport. This time, we´ll use a **random sample.**"
   ]
  },
  {
   "cell_type": "code",
   "execution_count": 26,
   "id": "0fc7f81d",
   "metadata": {
    "ExecuteTime": {
     "end_time": "2022-03-28T06:51:15.689244Z",
     "start_time": "2022-03-28T06:51:15.674423Z"
    }
   },
   "outputs": [],
   "source": [
    "data_swimming_sampled = data_swimming.sample(n= 250, random_state= 42)\n",
    "data_synco_swimming_sampled = data_synco_swimming.sample(n=250, random_state=42)\n",
    "data_water_polo_sampled = data_water_polo.sample(n=250, random_state=42)"
   ]
  },
  {
   "cell_type": "code",
   "execution_count": 27,
   "id": "de61f593",
   "metadata": {
    "ExecuteTime": {
     "end_time": "2022-03-28T06:51:15.705246Z",
     "start_time": "2022-03-28T06:51:15.690150Z"
    }
   },
   "outputs": [
    {
     "name": "stdout",
     "output_type": "stream",
     "text": [
      "stat=0.985, p=0.011\n",
      "Reject null hypothesis at 95% Significance Level  >> The data is not normally distributed\n",
      "stat=0.858, p=0.000\n",
      "Reject null hypothesis at 95% Significance Level  >> The data is not normally distributed\n",
      "stat=0.929, p=0.000\n",
      "Reject null hypothesis at 95% Significance Level  >> The data is not normally distributed\n"
     ]
    }
   ],
   "source": [
    "# check if the samples folow a normal distribution: \n",
    "check_normal_distribution(data_swimming_sampled['Weight'])\n",
    "check_normal_distribution(data_synco_swimming_sampled['Weight'])\n",
    "check_normal_distribution(data_water_polo_sampled['Weight'])"
   ]
  },
  {
   "cell_type": "markdown",
   "id": "2ce460c1",
   "metadata": {},
   "source": [
    "There are three groups, but the normality assumption is violated. So, we will use the **Friedman Test** for non parametric distributions. Let´s define the Hyopthesis: "
   ]
  },
  {
   "cell_type": "markdown",
   "id": "950669a3",
   "metadata": {},
   "source": [
    "+ H₀: μ₁=μ₂=μ₃ or The mean of the samples is the same.\n",
    "+ H₁: At least one of them is different."
   ]
  },
  {
   "cell_type": "code",
   "execution_count": 28,
   "id": "83dab49f",
   "metadata": {
    "ExecuteTime": {
     "end_time": "2022-03-28T06:51:15.736108Z",
     "start_time": "2022-03-28T06:51:15.708143Z"
    }
   },
   "outputs": [
    {
     "name": "stdout",
     "output_type": "stream",
     "text": [
      "p value:0.000\n",
      "Reject Null Hypothesis at 95% confidence level >> Accept Alternative Hypothesis\n"
     ]
    }
   ],
   "source": [
    "test_stat,p_value = stats.friedmanchisquare(data_swimming_sampled['Weight'],data_synco_swimming_sampled['Weight'], \n",
    "                                           data_water_polo_sampled['Weight'])\n",
    "print(\"p value:%.3f\" % p_value)\n",
    "\n",
    "alpha = 0.05\n",
    "\n",
    "if pvalue > alpha: \n",
    "    print('Fail to reject Null Hypothesis at 95% confidence level ')\n",
    "else: \n",
    "    print('Reject Null Hypothesis at 95% confidence level >> Accept Alternative Hypothesis')"
   ]
  },
  {
   "cell_type": "markdown",
   "id": "1bafed31",
   "metadata": {},
   "source": [
    "At this significance level, at **least one of the samples** has a different performance."
   ]
  },
  {
   "cell_type": "markdown",
   "id": "a7d952b2",
   "metadata": {},
   "source": [
    "We´ll use the  nonparametric version of the **Posthoc test** two compare the samples between them: "
   ]
  },
  {
   "cell_type": "code",
   "execution_count": 29,
   "id": "57d845c1",
   "metadata": {
    "ExecuteTime": {
     "end_time": "2022-03-28T06:51:15.894336Z",
     "start_time": "2022-03-28T06:51:15.738529Z"
    }
   },
   "outputs": [
    {
     "data": {
      "text/html": [
       "<style type=\"text/css\">\n",
       "#T_a7942_row0_col0, #T_a7942_row1_col1, #T_a7942_row2_col2 {\n",
       "  background-color: white;\n",
       "}\n",
       "#T_a7942_row0_col1, #T_a7942_row0_col2, #T_a7942_row1_col0, #T_a7942_row1_col2, #T_a7942_row2_col0, #T_a7942_row2_col1 {\n",
       "  background-color: violet;\n",
       "}\n",
       "</style>\n",
       "<table id=\"T_a7942\">\n",
       "  <thead>\n",
       "    <tr>\n",
       "      <th class=\"blank level0\" >&nbsp;</th>\n",
       "      <th id=\"T_a7942_level0_col0\" class=\"col_heading level0 col0\" >Swimming</th>\n",
       "      <th id=\"T_a7942_level0_col1\" class=\"col_heading level0 col1\" >Syncro Swimming</th>\n",
       "      <th id=\"T_a7942_level0_col2\" class=\"col_heading level0 col2\" >Water Polo</th>\n",
       "    </tr>\n",
       "  </thead>\n",
       "  <tbody>\n",
       "    <tr>\n",
       "      <th id=\"T_a7942_level0_row0\" class=\"row_heading level0 row0\" >Swimming</th>\n",
       "      <td id=\"T_a7942_row0_col0\" class=\"data row0 col0\" >1.000000</td>\n",
       "      <td id=\"T_a7942_row0_col1\" class=\"data row0 col1\" >0.000000</td>\n",
       "      <td id=\"T_a7942_row0_col2\" class=\"data row0 col2\" >0.000000</td>\n",
       "    </tr>\n",
       "    <tr>\n",
       "      <th id=\"T_a7942_level0_row1\" class=\"row_heading level0 row1\" >Syncro Swimming</th>\n",
       "      <td id=\"T_a7942_row1_col0\" class=\"data row1 col0\" >0.000000</td>\n",
       "      <td id=\"T_a7942_row1_col1\" class=\"data row1 col1\" >1.000000</td>\n",
       "      <td id=\"T_a7942_row1_col2\" class=\"data row1 col2\" >0.000000</td>\n",
       "    </tr>\n",
       "    <tr>\n",
       "      <th id=\"T_a7942_level0_row2\" class=\"row_heading level0 row2\" >Water Polo</th>\n",
       "      <td id=\"T_a7942_row2_col0\" class=\"data row2 col0\" >0.000000</td>\n",
       "      <td id=\"T_a7942_row2_col1\" class=\"data row2 col1\" >0.000000</td>\n",
       "      <td id=\"T_a7942_row2_col2\" class=\"data row2 col2\" >1.000000</td>\n",
       "    </tr>\n",
       "  </tbody>\n",
       "</table>\n"
      ],
      "text/plain": [
       "<pandas.io.formats.style.Styler at 0x251142e1340>"
      ]
     },
     "execution_count": 29,
     "metadata": {},
     "output_type": "execute_result"
    }
   ],
   "source": [
    "data = np.array([data_swimming_sampled['Weight'],data_synco_swimming_sampled['Weight'], \n",
    "                                           data_water_polo_sampled['Weight']]) \n",
    "posthoc_df=sp.posthoc_wilcoxon(data, p_adjust=\"holm\")\n",
    "\n",
    "group_names= [\"Swimming\", \"Syncro Swimming\",\"Water Polo\"]\n",
    "posthoc_df.columns= group_names\n",
    "posthoc_df.index= group_names\n",
    "posthoc_df.style.applymap(lambda x: \"background-color:violet\" if x<0.05 else \"background-color: white\")\n"
   ]
  },
  {
   "cell_type": "markdown",
   "id": "1490165f",
   "metadata": {},
   "source": [
    "We can see in this table that the three distributions are quite different from each other, we reject Null Hypothesis in all comparisons. Let's plot them to take a better view: "
   ]
  },
  {
   "cell_type": "code",
   "execution_count": 30,
   "id": "de7d1056",
   "metadata": {
    "ExecuteTime": {
     "end_time": "2022-03-28T06:51:16.190289Z",
     "start_time": "2022-03-28T06:51:15.896433Z"
    }
   },
   "outputs": [
    {
     "data": {
      "image/png": "[encoded data removed]",
      "text/plain": [
       "<Figure size 792x576 with 1 Axes>"
      ]
     },
     "metadata": {
      "needs_background": "light"
     },
     "output_type": "display_data"
    }
   ],
   "source": [
    "plt.figure(figsize= (11,8))\n",
    "\n",
    "sns.kdeplot(data_synco_swimming_sampled['Weight'],  label= 'Weights of Syncronized Swimming Female Athletes', \n",
    "            fill = True, alpha= 0.30)\n",
    "sns.kdeplot(data_swimming_sampled['Weight'], label= 'Weights of Swimming Female Athletes', \n",
    "                                     color= 'magenta', fill = True, alpha = 0.30)\n",
    "sns.kdeplot(data_water_polo_sampled['Weight'], label= 'Weights of Water Polo Female Athletes', \n",
    "            fill = True, alpha= 0.30, color='#4cf163')\n",
    "plt.title('Weight distribution among Female Swimming Olympic Athletes', fontsize = 15)\n",
    "plt.legend()\n",
    "plt.show()"
   ]
  },
  {
   "cell_type": "markdown",
   "id": "c240c474",
   "metadata": {},
   "source": [
    "The plot confirms the result of our tests: weight of female athletes in the 3 sports (Swimming, Syncronized Swimming and Water Polo) is different. "
   ]
  },
  {
   "cell_type": "code",
   "execution_count": null,
   "id": "e4df31d1",
   "metadata": {},
   "outputs": [],
   "source": []
  }
 ],
 "metadata": {
  "kernelspec": {
   "display_name": "Python 3 (ipykernel)",
   "language": "python",
   "name": "python3"
  },
  "language_info": {
   "codemirror_mode": {
    "name": "ipython",
    "version": 3
   },
   "file_extension": ".py",
   "mimetype": "text/x-python",
   "name": "python",
   "nbconvert_exporter": "python",
   "pygments_lexer": "ipython3",
   "version": "3.9.7"
  }
 },
 "nbformat": 4,
 "nbformat_minor": 5
}
